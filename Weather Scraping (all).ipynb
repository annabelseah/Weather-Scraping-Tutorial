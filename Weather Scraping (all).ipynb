{
 "cells": [
  {
   "cell_type": "markdown",
   "metadata": {},
   "source": [
    "Import package"
   ]
  },
  {
   "cell_type": "code",
   "execution_count": 1,
   "metadata": {},
   "outputs": [],
   "source": [
    "import pandas as pd\n",
    "import os\n",
    "import json"
   ]
  },
  {
   "cell_type": "markdown",
   "metadata": {},
   "source": [
    "Setup the base link for scraping"
   ]
  },
  {
   "cell_type": "code",
   "execution_count": 2,
   "metadata": {},
   "outputs": [],
   "source": [
    "BASE_URL = 'http://www.weather.gov.sg/files/dailydata/DAILYDATA_{}_{}{}.csv'\n",
    "YEAR_RANGE = [2010, 2020]\n",
    "MONTH_RANGE = [i for i in range(1, 13)]\n",
    "MONTH_RANGE=[\"0\"+str(x) if x<10 else str(x) for x in MONTH_RANGE ]"
   ]
  },
  {
   "cell_type": "markdown",
   "metadata": {},
   "source": [
    "Load in the dictonary of all station names"
   ]
  },
  {
   "cell_type": "code",
   "execution_count": 3,
   "metadata": {},
   "outputs": [],
   "source": [
    "dic = json.loads('[{\"station_code\":\"S06\",\"station_name\":\"Paya Lebar\",\"longitude\":\"103.90373333\",\"latitude\":\"1.35713333\"},{\"station_code\":\"S07\",\"station_name\":\"Macritchie Reservoir\",\"longitude\":\"103.83390000\",\"latitude\":\"1.34180000\"},{\"station_code\":\"S08\",\"station_name\":\"Lower Peirce Reservoir\",\"longitude\":\"103.82706667\",\"latitude\":\"1.37003333\"},{\"station_code\":\"S101\",\"station_name\":\"Jurong (North)\",\"longitude\":\"103.71340000\",\"latitude\":\"1.35053333\"},{\"station_code\":\"S102\",\"station_name\":\"Semakau Island\",\"longitude\":\"103.76571667\",\"latitude\":\"1.19016667\"},{\"station_code\":\"S104\",\"station_name\":\"Admiralty\",\"longitude\":\"103.78538333\",\"latitude\":\"1.44386667\"},{\"station_code\":\"S105\",\"station_name\":\"Admiralty West\",\"longitude\":\"103.79525000\",\"latitude\":\"1.45816667\"},{\"station_code\":\"S106\",\"station_name\":\"Pulau Ubin\",\"longitude\":\"103.96730000\",\"latitude\":\"1.41680000\"},{\"station_code\":\"S107\",\"station_name\":\"East Coast Parkway\",\"longitude\":\"103.96198333\",\"latitude\":\"1.31331667\"},{\"station_code\":\"S108\",\"station_name\":\"Marina Barrage\",\"longitude\":\"103.87030000\",\"latitude\":\"1.27991667\"},{\"station_code\":\"S109\",\"station_name\":\"Ang Mo Kio\",\"longitude\":\"103.85001667\",\"latitude\":\"1.37926667\"},{\"station_code\":\"S11\",\"station_name\":\"Choa Chu Kang (West)\",\"longitude\":\"103.69373333\",\"latitude\":\"1.37425000\"},{\"station_code\":\"S110\",\"station_name\":\"Serangoon North\",\"longitude\":\"103.87076667\",\"latitude\":\"1.36531667\"},{\"station_code\":\"S111\",\"station_name\":\"Newton\",\"longitude\":\"103.83650000\",\"latitude\":\"1.31055000\"},{\"station_code\":\"S112\",\"station_name\":\"Lim Chu Kang\",\"longitude\":\"103.70173333\",\"latitude\":\"1.43880000\"},{\"station_code\":\"S113\",\"station_name\":\"Marine Parade\",\"longitude\":\"103.91121667\",\"latitude\":\"1.30501667\"},{\"station_code\":\"S114\",\"station_name\":\"Choa Chu Kang (Central)\",\"longitude\":\"103.73810000\",\"latitude\":\"1.38208333\"},{\"station_code\":\"S115\",\"station_name\":\"Tuas South\",\"longitude\":\"103.61840000\",\"latitude\":\"1.29380000\"},{\"station_code\":\"S116\",\"station_name\":\"Pasir Panjang\",\"longitude\":\"103.75450000\",\"latitude\":\"1.28235000\"},{\"station_code\":\"S117\",\"station_name\":\"Jurong Island\",\"longitude\":\"103.67900000\",\"latitude\":\"1.25600000\"},{\"station_code\":\"S118\",\"station_name\":\"Dhoby Ghaut\",\"longitude\":\"103.84606667\",\"latitude\":\"1.29940000\"},{\"station_code\":\"S119\",\"station_name\":\"Nicoll Highway\",\"longitude\":\"103.86218333\",\"latitude\":\"1.29503333\"},{\"station_code\":\"S120\",\"station_name\":\"Botanic Garden\",\"longitude\":\"103.81801667\",\"latitude\":\"1.30871667\"},{\"station_code\":\"S121\",\"station_name\":\"Choa Chu Kang (South)\",\"longitude\":\"103.71140000\",\"latitude\":\"1.38580000\"},{\"station_code\":\"S122\",\"station_name\":\"Khatib\",\"longitude\":\"103.82513333\",\"latitude\":\"1.41725000\"},{\"station_code\":\"S123\",\"station_name\":\"Whampoa\",\"longitude\":\"103.85765000\",\"latitude\":\"1.32141667\"},{\"station_code\":\"S23\",\"station_name\":\"Tengah\",\"longitude\":\"103.71166667\",\"latitude\":\"1.38500000\"},{\"station_code\":\"S24\",\"station_name\":\"Changi\",\"longitude\":\"103.98226667\",\"latitude\":\"1.36776667\"},{\"station_code\":\"S25\",\"station_name\":\"Seletar\",\"longitude\":\"103.86500000\",\"latitude\":\"1.41666667\"},{\"station_code\":\"S29\",\"station_name\":\"Pasir Ris (West)\",\"longitude\":\"103.94133333\",\"latitude\":\"1.38650000\"},{\"station_code\":\"S31\",\"station_name\":\"Kampong Bahru\",\"longitude\":\"103.82816667\",\"latitude\":\"1.27431667\"},{\"station_code\":\"S33\",\"station_name\":\"Jurong Pier\",\"longitude\":\"103.70986667\",\"latitude\":\"1.30818333\"},{\"station_code\":\"S35\",\"station_name\":\"Ulu Pandan\",\"longitude\":\"103.75498333\",\"latitude\":\"1.33246667\"},{\"station_code\":\"S36\",\"station_name\":\"Serangoon\",\"longitude\":\"103.86615000\",\"latitude\":\"1.33765000\"},{\"station_code\":\"S39\",\"station_name\":\"Jurong (East)\",\"longitude\":\"103.73675000\",\"latitude\":\"1.32516667\"},{\"station_code\":\"S40\",\"station_name\":\"Mandai\",\"longitude\":\"103.78320000\",\"latitude\":\"1.40665000\"},{\"station_code\":\"S43\",\"station_name\":\"Tai Seng\",\"longitude\":\"103.88816667\",\"latitude\":\"1.34061667\"},{\"station_code\":\"S44\",\"station_name\":\"Jurong (West)\",\"longitude\":\"103.68333333\",\"latitude\":\"1.34523333\"},{\"station_code\":\"S46\",\"station_name\":\"Upper Thomson\",\"longitude\":\"103.81078333\",\"latitude\":\"1.34155000\"},{\"station_code\":\"S50\",\"station_name\":\"Clementi\",\"longitude\":\"103.77611667\",\"latitude\":\"1.33178333\"},{\"station_code\":\"S55\",\"station_name\":\"Buangkok\",\"longitude\":\"103.88603333\",\"latitude\":\"1.38358333\"},{\"station_code\":\"S60\",\"station_name\":\"Sentosa Island\",\"longitude\":\"103.82753333\",\"latitude\":\"1.25040000\"},{\"station_code\":\"S61\",\"station_name\":\"Chai Chee\",\"longitude\":\"103.92065000\",\"latitude\":\"1.32710000\"},{\"station_code\":\"S63\",\"station_name\":\"Boon Lay (West)\",\"longitude\":\"103.70416667\",\"latitude\":\"1.32746667\"},{\"station_code\":\"S64\",\"station_name\":\"Bukit Panjang\",\"longitude\":\"103.76066667\",\"latitude\":\"1.38228333\"},{\"station_code\":\"S66\",\"station_name\":\"Kranji Reservoir\",\"longitude\":\"103.73601667\",\"latitude\":\"1.43866667\"},{\"station_code\":\"S69\",\"station_name\":\"Upper Peirce Reservoir\",\"longitude\":\"103.80463333\",\"latitude\":\"1.37035000\"},{\"station_code\":\"S71\",\"station_name\":\"Kent Ridge\",\"longitude\":\"103.78150000\",\"latitude\":\"1.29230000\"},{\"station_code\":\"S72\",\"station_name\":\"Tanjong Pagar\",\"longitude\":\"103.84823333\",\"latitude\":\"1.27388333\"},{\"station_code\":\"S77\",\"station_name\":\"Queenstown\",\"longitude\":\"103.81268333\",\"latitude\":\"1.29360000\"},{\"station_code\":\"S78\",\"station_name\":\"Tanjong Katong\",\"longitude\":\"103.89066667\",\"latitude\":\"1.30703333\"},{\"station_code\":\"S79\",\"station_name\":\"Somerset (Road)\",\"longitude\":\"103.83720000\",\"latitude\":\"1.30040000\"},{\"station_code\":\"S80\",\"station_name\":\"Sembawang\",\"longitude\":\"103.82000000\",\"latitude\":\"1.42500000\"},{\"station_code\":\"S81\",\"station_name\":\"Punggol\",\"longitude\":\"103.90948333\",\"latitude\":\"1.40285000\"},{\"station_code\":\"S82\",\"station_name\":\"Tuas West\",\"longitude\":\"103.63520000\",\"latitude\":\"1.32480000\"},{\"station_code\":\"S84\",\"station_name\":\"Simei\",\"longitude\":\"103.94405000\",\"latitude\":\"1.34428333\"},{\"station_code\":\"S86\",\"station_name\":\"Boon Lay (East)\",\"longitude\":\"103.72046667\",\"latitude\":\"1.32686667\"},{\"station_code\":\"S88\",\"station_name\":\"Toa Payoh\",\"longitude\":\"103.85150000\",\"latitude\":\"1.34171667\"},{\"station_code\":\"S89\",\"station_name\":\"Tuas\",\"longitude\":\"103.66131667\",\"latitude\":\"1.31985000\"},{\"station_code\":\"S90\",\"station_name\":\"Bukit Timah\",\"longitude\":\"103.81928333\",\"latitude\":\"1.31910000\"},{\"station_code\":\"S91\",\"station_name\":\"Yishun\",\"longitude\":\"103.83061667\",\"latitude\":\"1.42993333\"},{\"station_code\":\"S92\",\"station_name\":\"Buona Vista\",\"longitude\":\"103.78875000\",\"latitude\":\"1.28408333\"},{\"station_code\":\"S94\",\"station_name\":\"Pasir Ris (Central)\",\"longitude\":\"103.94898333\",\"latitude\":\"1.36793333\"}]')\n"
   ]
  },
  {
   "cell_type": "markdown",
   "metadata": {},
   "source": [
    "Get just the stations that you need - 11 stations"
   ]
  },
  {
   "cell_type": "code",
   "execution_count": 4,
   "metadata": {},
   "outputs": [],
   "source": [
    "stations_needed = ['S06','S86','S107','S23','S24','S25','S80','S111','S109','S104','S44']"
   ]
  },
  {
   "cell_type": "code",
   "execution_count": 5,
   "metadata": {},
   "outputs": [],
   "source": [
    "master_dic = [x for x in dic if x['station_code'] in stations_needed]"
   ]
  },
  {
   "cell_type": "markdown",
   "metadata": {},
   "source": [
    "Create folder to save all the scraping files"
   ]
  },
  {
   "cell_type": "code",
   "execution_count": 6,
   "metadata": {},
   "outputs": [],
   "source": [
    "SAVE_FOLDER = 'data/'\n",
    "if not os.path.exists(SAVE_FOLDER):\n",
    "    os.mkdir(SAVE_FOLDER)"
   ]
  },
  {
   "cell_type": "markdown",
   "metadata": {},
   "source": [
    "Scrape the files"
   ]
  },
  {
   "cell_type": "code",
   "execution_count": 11,
   "metadata": {},
   "outputs": [
    {
     "name": "stdout",
     "output_type": "stream",
     "text": [
      "Unable to find station S80 for 2010-09\n",
      "Unable to find station S44 for 2014-07\n",
      "Unable to find station S44 for 2014-08\n",
      "Unable to find station S104 for 2014-09\n",
      "Unable to find station S44 for 2014-09\n",
      "Unable to find station S44 for 2014-10\n",
      "Unable to find station S44 for 2014-11\n",
      "Unable to find station S44 for 2014-12\n",
      "Unable to find station S86 for 2016-02\n",
      "Unable to find station S86 for 2016-03\n",
      "Unable to find station S86 for 2016-04\n",
      "Unable to find station S86 for 2016-05\n",
      "Unable to find station S86 for 2016-06\n",
      "Unable to find station S86 for 2016-07\n",
      "Unable to find station S86 for 2016-08\n",
      "Unable to find station S111 for 2016-09\n",
      "Unable to find station S86 for 2016-09\n",
      "Unable to find station S111 for 2016-10\n",
      "Unable to find station S86 for 2016-10\n",
      "Unable to find station S111 for 2016-11\n",
      "Unable to find station S86 for 2016-11\n",
      "Unable to find station S86 for 2016-12\n",
      "Unable to find station S86 for 2017-01\n",
      "Unable to find station S86 for 2017-02\n",
      "Unable to find station S86 for 2017-03\n",
      "Unable to find station S86 for 2017-04\n",
      "Unable to find station S86 for 2017-05\n",
      "Unable to find station S86 for 2017-06\n",
      "Unable to find station S86 for 2017-07\n",
      "Unable to find station S86 for 2017-08\n",
      "Unable to find station S86 for 2017-09\n",
      "Unable to find station S86 for 2017-10\n",
      "Unable to find station S86 for 2017-11\n",
      "Unable to find station S86 for 2017-12\n",
      "Unable to find station S86 for 2018-01\n",
      "Unable to find station S86 for 2018-02\n",
      "Unable to find station S86 for 2018-03\n",
      "Unable to find station S86 for 2018-04\n",
      "Unable to find station S86 for 2018-05\n",
      "Unable to find station S86 for 2018-06\n",
      "Unable to find station S86 for 2018-07\n",
      "Unable to find station S86 for 2018-08\n",
      "Unable to find station S86 for 2018-09\n",
      "Unable to find station S86 for 2018-10\n",
      "Unable to find station S86 for 2018-11\n",
      "Unable to find station S86 for 2018-12\n",
      "Unable to find station S86 for 2019-01\n",
      "Unable to find station S86 for 2019-02\n",
      "Unable to find station S86 for 2019-03\n",
      "Unable to find station S86 for 2019-04\n",
      "Unable to find station S86 for 2019-05\n",
      "Unable to find station S86 for 2019-06\n",
      "Unable to find station S86 for 2019-07\n",
      "Unable to find station S86 for 2019-08\n",
      "Unable to find station S86 for 2019-09\n",
      "Unable to find station S86 for 2019-10\n",
      "Unable to find station S86 for 2019-11\n",
      "Unable to find station S86 for 2019-12\n",
      "Unable to find station S86 for 2020-01\n",
      "Unable to find station S86 for 2020-02\n",
      "Unable to find station S86 for 2020-03\n",
      "Unable to find station S86 for 2020-05\n",
      "Unable to find station S86 for 2020-06\n",
      "Unable to find station S86 for 2020-07\n",
      "Unable to find station S86 for 2020-08\n",
      "Unable to find station S86 for 2020-09\n",
      "Unable to find station S86 for 2020-10\n",
      "Unable to find station S86 for 2020-11\n",
      "Unable to find station S86 for 2020-12\n"
     ]
    }
   ],
   "source": [
    "for year in range(YEAR_RANGE[0], YEAR_RANGE[1]+1):\n",
    "    for month in MONTH_RANGE:\n",
    "        for station_dic in master_dic:\n",
    "            station_code = station_dic['station_code']\n",
    "            download_filename = '{}_{}-{}.csv'.format(station_code, year, month)\n",
    "            try:\n",
    "                #print(BASE_URL.format(station_code, year, month))\n",
    "                df = pd.read_csv(BASE_URL.format(station_code, year, month),encoding = \"ISO-8859-1\")\n",
    "                df.iloc[:,4:] = df.iloc[:,4:].apply(lambda x: pd.to_numeric(x,errors=\"coerce\"))\n",
    "                df.to_csv(SAVE_FOLDER + download_filename, index=False)\n",
    "            except Exception as e:\n",
    "                print(\"Unable to find station {} for {}-{}\".format(station_code,year,month))"
   ]
  }
 ],
 "metadata": {
  "kernelspec": {
   "display_name": "Python 3",
   "language": "python",
   "name": "python3"
  },
  "language_info": {
   "codemirror_mode": {
    "name": "ipython",
    "version": 3
   },
   "file_extension": ".py",
   "mimetype": "text/x-python",
   "name": "python",
   "nbconvert_exporter": "python",
   "pygments_lexer": "ipython3",
   "version": "3.7.6"
  }
 },
 "nbformat": 4,
 "nbformat_minor": 4
}
